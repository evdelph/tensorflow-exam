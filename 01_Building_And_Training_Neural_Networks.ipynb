{
  "nbformat": 4,
  "nbformat_minor": 0,
  "metadata": {
    "colab": {
      "provenance": []
    },
    "kernelspec": {
      "name": "python3",
      "display_name": "Python 3"
    },
    "language_info": {
      "name": "python"
    },
    "accelerator": "GPU",
    "gpuClass": "standard"
  },
  "cells": [
    {
      "cell_type": "markdown",
      "source": [
        "# Building and Training Neural Networks\n",
        "This is a skills check for "
      ],
      "metadata": {
        "id": "G1bZKKXN2LX8"
      }
    },
    {
      "cell_type": "code",
      "execution_count": 1,
      "metadata": {
        "id": "68S1bb2Y2KFx"
      },
      "outputs": [],
      "source": [
        "import pandas as pd\n",
        "import numpy as np\n",
        "import tensorflow as tf\n",
        "from sklearn.model_selection import train_test_split\n",
        "from sklearn.compose import make_column_transformer\n",
        "from sklearn.preprocessing import MinMaxScaler, OneHotEncoder\n",
        "import matplotlib.pyplot as plt\n",
        "import zipfile\n",
        "import os\n",
        "import random\n",
        "from tensorflow.keras.preprocessing.image import ImageDataGenerator\n",
        "from tensorflow.keras.preprocessing.image import load_img, img_to_array, array_to_img"
      ]
    },
    {
      "cell_type": "markdown",
      "source": [
        "## Project 1: Fashion MNIST\n",
        "### Use datasets from tf.data.datsets https://keras.io/api/datasets/"
      ],
      "metadata": {
        "id": "qgtbBJOQ2yQF"
      }
    },
    {
      "cell_type": "code",
      "source": [
        "# load fashion mnist data from API\n",
        "fmnist = tf.keras.datasets.fashion_mnist\n",
        "\n",
        "(training_images, training_labels), (test_images,test_labels) = fmnist.load_data()"
      ],
      "metadata": {
        "colab": {
          "base_uri": "https://localhost:8080/"
        },
        "id": "TaGG4U0j2xfu",
        "outputId": "43b80a27-3f0a-4139-db8f-f9ef6b61d9b7"
      },
      "execution_count": 2,
      "outputs": [
        {
          "output_type": "stream",
          "name": "stdout",
          "text": [
            "Downloading data from https://storage.googleapis.com/tensorflow/tf-keras-datasets/train-labels-idx1-ubyte.gz\n",
            "32768/29515 [=================================] - 0s 0us/step\n",
            "40960/29515 [=========================================] - 0s 0us/step\n",
            "Downloading data from https://storage.googleapis.com/tensorflow/tf-keras-datasets/train-images-idx3-ubyte.gz\n",
            "26427392/26421880 [==============================] - 0s 0us/step\n",
            "26435584/26421880 [==============================] - 0s 0us/step\n",
            "Downloading data from https://storage.googleapis.com/tensorflow/tf-keras-datasets/t10k-labels-idx1-ubyte.gz\n",
            "16384/5148 [===============================================================================================] - 0s 0us/step\n",
            "Downloading data from https://storage.googleapis.com/tensorflow/tf-keras-datasets/t10k-images-idx3-ubyte.gz\n",
            "4423680/4422102 [==============================] - 0s 0us/step\n",
            "4431872/4422102 [==============================] - 0s 0us/step\n"
          ]
        }
      ]
    },
    {
      "cell_type": "code",
      "source": [
        "# randomly sample images\n",
        "index = random.randint(0,len(training_images))\n",
        "plt.title(training_labels[index])\n",
        "plt.imshow(training_images[index]);"
      ],
      "metadata": {
        "colab": {
          "base_uri": "https://localhost:8080/",
          "height": 281
        },
        "id": "uNx_IQ782xjG",
        "outputId": "73205f13-23db-4d47-8f1d-0331b13624b3"
      },
      "execution_count": 3,
      "outputs": [
        {
          "output_type": "display_data",
          "data": {
            "text/plain": [
              "<Figure size 432x288 with 1 Axes>"
            ],
            "image/png": "[encoded data removed]"
          },
          "metadata": {
            "needs_background": "light"
          }
        }
      ]
    },
    {
      "cell_type": "markdown",
      "source": [
        "### Build, compile and train machine learning (ML) models using Tensorflow\n",
        "### Preprocess data to get it ready for use in a model\n",
        "### Build sequential models with multiple layers\n",
        "### Build and train models for multi-class categorization\n",
        "### Ensure that inputs to a model are in the correct shape\n",
        "### Ensure that you can match test data to the input shape of a neural network\n",
        "### Ensure you can match output data of a neural network to a specified input shape of test data"
      ],
      "metadata": {
        "id": "xrxk1BDC4DKa"
      }
    },
    {
      "cell_type": "code",
      "source": [
        "# preprocess data- normalize data\n",
        "training_images = training_images / 255.0\n",
        "test_images = test_images / 255.0\n",
        "\n",
        "def create_model1(training_images,training_labels,test_images,test_labels,learning_rate=1e-3,find_lr=False):\n",
        "\n",
        "    # build sequential models with multiple layers\n",
        "    model = tf.keras.Sequential([\n",
        "        \n",
        "        # ensure that inputs to a model are the correct shape\n",
        "        # ensure that you can match test data to the input shape of a neural network\n",
        "        tf.keras.layers.Flatten(input_shape=(28,28)),\n",
        "        tf.keras.layers.Dense(128,activation=\"relu\"),\n",
        "\n",
        "        # build and train models for multi-class categorization\n",
        "        # ensure you can match output data of a neural network to a specified input shape of test data\n",
        "        tf.keras.layers.Dense(10,activation=\"softmax\")\n",
        "    ])\n",
        "\n",
        "    # Create the learning rate callback\n",
        "    lr_scheduler = tf.keras.callbacks.LearningRateScheduler(lambda epoch: 1e-3 * 10**(epoch/20))\n",
        "\n",
        "    # init optimizer\n",
        "    optimizer = tf.keras.optimizers.Adam(learning_rate=learning_rate) if find_lr == False else tf.keras.optimizers.Adam(learning_rate=learning_rate)\n",
        "    callbacks = [lr_scheduler] if find_lr else []\n",
        "\n",
        "    # compile model\n",
        "    model.compile(loss=tf.keras.losses.SparseCategoricalCrossentropy(),\n",
        "                  optimizer=tf.keras.optimizers.Adam(learning_rate=learning_rate),\n",
        "                  metrics=[\"accuracy\"])\n",
        "\n",
        "    # Fit the model\n",
        "    history = model.fit(training_images,\n",
        "                                training_labels,\n",
        "                                epochs=20,\n",
        "                                validation_data=(test_images, test_labels),\n",
        "                                callbacks=callbacks)\n",
        "    \n",
        "    return model, history"
      ],
      "metadata": {
        "id": "M_X-BApQ2xma"
      },
      "execution_count": 4,
      "outputs": []
    },
    {
      "cell_type": "code",
      "source": [
        "model1, history1 = create_model1(training_images,training_labels,test_images,test_labels,find_lr=True)"
      ],
      "metadata": {
        "colab": {
          "base_uri": "https://localhost:8080/"
        },
        "id": "V7Lz8puH-8uC",
        "outputId": "3c3f7473-cb5d-4b02-d2a1-ad591cf829c6"
      },
      "execution_count": 5,
      "outputs": [
        {
          "output_type": "stream",
          "name": "stdout",
          "text": [
            "Epoch 1/20\n",
            "1875/1875 [==============================] - 10s 3ms/step - loss: 0.4992 - accuracy: 0.8246 - val_loss: 0.4504 - val_accuracy: 0.8348 - lr: 0.0010\n",
            "Epoch 2/20\n",
            "1875/1875 [==============================] - 5s 2ms/step - loss: 0.3777 - accuracy: 0.8647 - val_loss: 0.3833 - val_accuracy: 0.8619 - lr: 0.0011\n",
            "Epoch 3/20\n",
            "1875/1875 [==============================] - 5s 2ms/step - loss: 0.3422 - accuracy: 0.8739 - val_loss: 0.3677 - val_accuracy: 0.8697 - lr: 0.0013\n",
            "Epoch 4/20\n",
            "1875/1875 [==============================] - 5s 2ms/step - loss: 0.3233 - accuracy: 0.8822 - val_loss: 0.3559 - val_accuracy: 0.8713 - lr: 0.0014\n",
            "Epoch 5/20\n",
            "1875/1875 [==============================] - 5s 3ms/step - loss: 0.3110 - accuracy: 0.8853 - val_loss: 0.3638 - val_accuracy: 0.8729 - lr: 0.0016\n",
            "Epoch 6/20\n",
            "1875/1875 [==============================] - 5s 2ms/step - loss: 0.3003 - accuracy: 0.8894 - val_loss: 0.3637 - val_accuracy: 0.8707 - lr: 0.0018\n",
            "Epoch 7/20\n",
            "1875/1875 [==============================] - 5s 2ms/step - loss: 0.2954 - accuracy: 0.8911 - val_loss: 0.3747 - val_accuracy: 0.8709 - lr: 0.0020\n",
            "Epoch 8/20\n",
            "1875/1875 [==============================] - 5s 2ms/step - loss: 0.2865 - accuracy: 0.8931 - val_loss: 0.3939 - val_accuracy: 0.8636 - lr: 0.0022\n",
            "Epoch 9/20\n",
            "1875/1875 [==============================] - 5s 2ms/step - loss: 0.2900 - accuracy: 0.8925 - val_loss: 0.3580 - val_accuracy: 0.8730 - lr: 0.0025\n",
            "Epoch 10/20\n",
            "1875/1875 [==============================] - 4s 2ms/step - loss: 0.2910 - accuracy: 0.8931 - val_loss: 0.3836 - val_accuracy: 0.8636 - lr: 0.0028\n",
            "Epoch 11/20\n",
            "1875/1875 [==============================] - 5s 2ms/step - loss: 0.2846 - accuracy: 0.8956 - val_loss: 0.3794 - val_accuracy: 0.8722 - lr: 0.0032\n",
            "Epoch 12/20\n",
            "1875/1875 [==============================] - 5s 2ms/step - loss: 0.2920 - accuracy: 0.8926 - val_loss: 0.4492 - val_accuracy: 0.8587 - lr: 0.0035\n",
            "Epoch 13/20\n",
            "1875/1875 [==============================] - 5s 2ms/step - loss: 0.2943 - accuracy: 0.8911 - val_loss: 0.4249 - val_accuracy: 0.8571 - lr: 0.0040\n",
            "Epoch 14/20\n",
            "1875/1875 [==============================] - 5s 2ms/step - loss: 0.2982 - accuracy: 0.8903 - val_loss: 0.3996 - val_accuracy: 0.8661 - lr: 0.0045\n",
            "Epoch 15/20\n",
            "1875/1875 [==============================] - 5s 2ms/step - loss: 0.3027 - accuracy: 0.8900 - val_loss: 0.3894 - val_accuracy: 0.8713 - lr: 0.0050\n",
            "Epoch 16/20\n",
            "1875/1875 [==============================] - 5s 2ms/step - loss: 0.3100 - accuracy: 0.8876 - val_loss: 0.4338 - val_accuracy: 0.8580 - lr: 0.0056\n",
            "Epoch 17/20\n",
            "1875/1875 [==============================] - 5s 2ms/step - loss: 0.3207 - accuracy: 0.8848 - val_loss: 0.4270 - val_accuracy: 0.8599 - lr: 0.0063\n",
            "Epoch 18/20\n",
            "1875/1875 [==============================] - 5s 3ms/step - loss: 0.3295 - accuracy: 0.8822 - val_loss: 0.4102 - val_accuracy: 0.8632 - lr: 0.0071\n",
            "Epoch 19/20\n",
            "1875/1875 [==============================] - 5s 3ms/step - loss: 0.3432 - accuracy: 0.8773 - val_loss: 0.4708 - val_accuracy: 0.8431 - lr: 0.0079\n",
            "Epoch 20/20\n",
            "1875/1875 [==============================] - 5s 2ms/step - loss: 0.3580 - accuracy: 0.8730 - val_loss: 0.4410 - val_accuracy: 0.8565 - lr: 0.0089\n"
          ]
        }
      ]
    },
    {
      "cell_type": "code",
      "source": [
        "# plot learning rate results\n",
        "def plot_learning_rate(history,epochs=20):\n",
        "  lrs = 1e-3 * (10**(np.arange(epochs)/20))\n",
        "  plt.semilogx(lrs, history.history[\"loss\"]) # want the x-axis to be log-scale\n",
        "  plt.xlabel(\"Learning rate\")\n",
        "  plt.ylabel(\"Loss\")\n",
        "  plt.title(\"Finding the ideal learning rate\");\n",
        "\n",
        "plot_learning_rate(history1)"
      ],
      "metadata": {
        "colab": {
          "base_uri": "https://localhost:8080/",
          "height": 299
        },
        "id": "ddkJ1ROx9J2F",
        "outputId": "15b6e100-a58d-4928-aba9-4c84d3a403aa"
      },
      "execution_count": 6,
      "outputs": [
        {
          "output_type": "display_data",
          "data": {
            "text/plain": [
              "<Figure size 432x288 with 1 Axes>"
            ],
            "image/png": "[encoded data removed]"
          },
          "metadata": {
            "needs_background": "light"
          }
        }
      ]
    },
    {
      "cell_type": "code",
      "source": [
        "model1, history1 = create_model1(training_images,training_labels,test_images,test_labels,learning_rate=1e-3,find_lr=False)"
      ],
      "metadata": {
        "colab": {
          "base_uri": "https://localhost:8080/"
        },
        "id": "VP6AMQDjAb5L",
        "outputId": "4c75db5e-261c-4f5b-ea80-68e17ee87712"
      },
      "execution_count": 7,
      "outputs": [
        {
          "output_type": "stream",
          "name": "stdout",
          "text": [
            "Epoch 1/20\n",
            "1875/1875 [==============================] - 5s 2ms/step - loss: 0.4953 - accuracy: 0.8256 - val_loss: 0.4161 - val_accuracy: 0.8481\n",
            "Epoch 2/20\n",
            "1875/1875 [==============================] - 4s 2ms/step - loss: 0.3748 - accuracy: 0.8641 - val_loss: 0.4076 - val_accuracy: 0.8489\n",
            "Epoch 3/20\n",
            "1875/1875 [==============================] - 4s 2ms/step - loss: 0.3409 - accuracy: 0.8754 - val_loss: 0.3985 - val_accuracy: 0.8570\n",
            "Epoch 4/20\n",
            "1875/1875 [==============================] - 4s 2ms/step - loss: 0.3160 - accuracy: 0.8847 - val_loss: 0.3669 - val_accuracy: 0.8686\n",
            "Epoch 5/20\n",
            "1875/1875 [==============================] - 4s 2ms/step - loss: 0.2998 - accuracy: 0.8895 - val_loss: 0.3703 - val_accuracy: 0.8652\n",
            "Epoch 6/20\n",
            "1875/1875 [==============================] - 5s 2ms/step - loss: 0.2833 - accuracy: 0.8956 - val_loss: 0.3580 - val_accuracy: 0.8760\n",
            "Epoch 7/20\n",
            "1875/1875 [==============================] - 5s 2ms/step - loss: 0.2715 - accuracy: 0.8990 - val_loss: 0.3369 - val_accuracy: 0.8788\n",
            "Epoch 8/20\n",
            "1875/1875 [==============================] - 4s 2ms/step - loss: 0.2602 - accuracy: 0.9024 - val_loss: 0.3482 - val_accuracy: 0.8779\n",
            "Epoch 9/20\n",
            "1875/1875 [==============================] - 5s 2ms/step - loss: 0.2501 - accuracy: 0.9071 - val_loss: 0.3376 - val_accuracy: 0.8808\n",
            "Epoch 10/20\n",
            "1875/1875 [==============================] - 5s 2ms/step - loss: 0.2425 - accuracy: 0.9089 - val_loss: 0.3453 - val_accuracy: 0.8785\n",
            "Epoch 11/20\n",
            "1875/1875 [==============================] - 5s 2ms/step - loss: 0.2354 - accuracy: 0.9117 - val_loss: 0.3386 - val_accuracy: 0.8825\n",
            "Epoch 12/20\n",
            "1875/1875 [==============================] - 5s 2ms/step - loss: 0.2267 - accuracy: 0.9162 - val_loss: 0.3357 - val_accuracy: 0.8846\n",
            "Epoch 13/20\n",
            "1875/1875 [==============================] - 5s 2ms/step - loss: 0.2193 - accuracy: 0.9183 - val_loss: 0.3500 - val_accuracy: 0.8884\n",
            "Epoch 14/20\n",
            "1875/1875 [==============================] - 4s 2ms/step - loss: 0.2125 - accuracy: 0.9200 - val_loss: 0.3327 - val_accuracy: 0.8856\n",
            "Epoch 15/20\n",
            "1875/1875 [==============================] - 5s 2ms/step - loss: 0.2034 - accuracy: 0.9239 - val_loss: 0.3354 - val_accuracy: 0.8891\n",
            "Epoch 16/20\n",
            "1875/1875 [==============================] - 5s 2ms/step - loss: 0.2001 - accuracy: 0.9249 - val_loss: 0.3586 - val_accuracy: 0.8835\n",
            "Epoch 17/20\n",
            "1875/1875 [==============================] - 5s 3ms/step - loss: 0.1955 - accuracy: 0.9265 - val_loss: 0.3540 - val_accuracy: 0.8838\n",
            "Epoch 18/20\n",
            "1875/1875 [==============================] - 5s 3ms/step - loss: 0.1886 - accuracy: 0.9283 - val_loss: 0.3695 - val_accuracy: 0.8852\n",
            "Epoch 19/20\n",
            "1875/1875 [==============================] - 5s 2ms/step - loss: 0.1864 - accuracy: 0.9298 - val_loss: 0.3511 - val_accuracy: 0.8886\n",
            "Epoch 20/20\n",
            "1875/1875 [==============================] - 4s 2ms/step - loss: 0.1815 - accuracy: 0.9323 - val_loss: 0.3712 - val_accuracy: 0.8834\n"
          ]
        }
      ]
    },
    {
      "cell_type": "markdown",
      "source": [
        "### Plot loss and accuracy of trained model"
      ],
      "metadata": {
        "id": "NDnBh3blBmrp"
      }
    },
    {
      "cell_type": "code",
      "source": [
        "def plot_accuracy_loss(history,flag=\"train\"):\n",
        "  df = pd.DataFrame(history.history)\n",
        "  subset = None\n",
        "\n",
        "  if flag == \"train\":\n",
        "    subset = df[['accuracy','loss']]\n",
        "  else:\n",
        "    subset = df[['val_accuracy','val_loss']]\n",
        "  \n",
        "  subset.plot()\n",
        "  plt.ylabel(\"loss\")\n",
        "  plt.xlabel(\"epochs\");\n",
        "\n",
        "plot_accuracy_loss(history1,flag=\"train\")"
      ],
      "metadata": {
        "colab": {
          "base_uri": "https://localhost:8080/",
          "height": 279
        },
        "id": "MXgareozBlN7",
        "outputId": "ad8b4318-bc67-4264-d30d-5bcc5ba96afc"
      },
      "execution_count": 8,
      "outputs": [
        {
          "output_type": "display_data",
          "data": {
            "text/plain": [
              "<Figure size 432x288 with 1 Axes>"
            ],
            "image/png": "[encoded data removed]"
          },
          "metadata": {
            "needs_background": "light"
          }
        }
      ]
    },
    {
      "cell_type": "code",
      "source": [
        "plot_accuracy_loss(history1,flag=\"valid\")"
      ],
      "metadata": {
        "colab": {
          "base_uri": "https://localhost:8080/",
          "height": 279
        },
        "id": "Bv4oa0Q7CgMq",
        "outputId": "2124bded-02a7-497a-8386-cbd6d2e7048c"
      },
      "execution_count": 9,
      "outputs": [
        {
          "output_type": "display_data",
          "data": {
            "text/plain": [
              "<Figure size 432x288 with 1 Axes>"
            ],
            "image/png": "[encoded data removed]"
          },
          "metadata": {
            "needs_background": "light"
          }
        }
      ]
    },
    {
      "cell_type": "markdown",
      "source": [
        "### Use models to predict results"
      ],
      "metadata": {
        "id": "_J_W2X-PERQQ"
      }
    },
    {
      "cell_type": "code",
      "source": [
        "def make_predictions(model,images,labels):\n",
        "  preds = model.predict(images)\n",
        "  preds = np.array([np.argmax(pred) for pred in preds])\n",
        "  acc = np.sum(preds==labels)/len(labels)\n",
        "  return acc,labels,preds\n",
        "\n",
        "sample = training_images[0:100]\n",
        "answers = training_labels[0:100]\n",
        "acc, labels, preds = make_predictions(model1,sample,answers)\n",
        "\n",
        "print(f'accuracy: {acc},\\n real labels: {labels},\\n preds: {preds}')"
      ],
      "metadata": {
        "colab": {
          "base_uri": "https://localhost:8080/"
        },
        "id": "M7i-xgTlEdgI",
        "outputId": "d87cf379-a9d9-483b-f826-fd4b0a1dc655"
      },
      "execution_count": 10,
      "outputs": [
        {
          "output_type": "stream",
          "name": "stdout",
          "text": [
            "accuracy: 0.92,\n",
            " real labels: [9 0 0 3 0 2 7 2 5 5 0 9 5 5 7 9 1 0 6 4 3 1 4 8 4 3 0 2 4 4 5 3 6 6 0 8 5\n",
            " 2 1 6 6 7 9 5 9 2 7 3 0 3 3 3 7 2 2 6 6 8 3 3 5 0 5 5 0 2 0 0 4 1 3 1 6 3\n",
            " 1 4 4 6 1 9 1 3 5 7 9 7 1 7 9 9 9 3 2 9 3 6 4 1 1 8],\n",
            " preds: [9 0 0 3 0 2 7 4 5 5 0 9 5 5 7 9 1 0 6 4 3 1 4 8 2 3 0 2 4 4 5 3 4 6 0 8 5\n",
            " 2 1 6 6 7 9 5 9 2 7 3 0 3 3 3 7 6 4 6 6 8 3 3 5 0 5 5 0 2 0 6 4 1 3 1 6 3\n",
            " 1 4 4 0 1 9 1 3 5 7 9 7 1 7 9 7 9 3 2 9 3 6 4 1 1 8]\n"
          ]
        }
      ]
    },
    {
      "cell_type": "markdown",
      "source": [
        "###**Extension of Fashion MNIST for Transfer Learning, Dropouts, Callbacks, etc**"
      ],
      "metadata": {
        "id": "9PSjEYmyHnAe"
      }
    },
    {
      "cell_type": "code",
      "source": [
        "# Prep data- load fashion mnist data from API\n",
        "fmnist = tf.keras.datasets.fashion_mnist\n",
        "\n",
        "(training_images, training_labels), (test_images,test_labels) = fmnist.load_data()\n",
        "\n",
        "# resize images\n",
        "def resize_images(image,TARGET_SIZE=(224,224)):\n",
        "  return tf.image.resize(\n",
        "    images=image,\n",
        "    size=TARGET_SIZE\n",
        ")\n",
        "  \n",
        "# make rank 4 tensor\n",
        "def rank_tensor(data):\n",
        "  data = np.expand_dims(data,axis=-1)\n",
        "  return data.repeat(3,axis=-1)\n",
        "\n",
        "training_images = rank_tensor(training_images)\n",
        "test_images = rank_tensor(test_images)\n",
        "\n",
        "print(training_images.shape,test_images.shape)"
      ],
      "metadata": {
        "colab": {
          "base_uri": "https://localhost:8080/"
        },
        "id": "zHaJYbQ9IDF-",
        "outputId": "e8f685dd-b598-4ab8-88e8-e66a39dbce98"
      },
      "execution_count": 11,
      "outputs": [
        {
          "output_type": "stream",
          "name": "stdout",
          "text": [
            "(60000, 28, 28, 3) (10000, 28, 28, 3)\n"
          ]
        }
      ]
    },
    {
      "cell_type": "markdown",
      "source": [
        "### Understand batch loading of data"
      ],
      "metadata": {
        "id": "ncNCweR_K7-b"
      }
    },
    {
      "cell_type": "code",
      "source": [
        "BATCH_SIZE = 128\n",
        "\n",
        "train_datagen = ImageDataGenerator(\n",
        "    rescale=1/255.0,\n",
        "    featurewise_center=False,\n",
        "    samplewise_center=False,\n",
        "    featurewise_std_normalization=False,\n",
        "    samplewise_std_normalization=False,\n",
        "    zca_whitening=False,\n",
        "    zca_epsilon=1e-06,\n",
        "    rotation_range=0,\n",
        "    width_shift_range=0.0,\n",
        "    height_shift_range=0.0,\n",
        "    brightness_range=None,\n",
        "    shear_range=0.0,\n",
        "    zoom_range=0.0,\n",
        "    channel_shift_range=0.0,\n",
        "    fill_mode='nearest',\n",
        "    cval=0.0,\n",
        "    horizontal_flip=False,\n",
        "    vertical_flip=False,\n",
        "    preprocessing_function=None,\n",
        "    data_format=None,\n",
        "    validation_split=0.0,\n",
        "    dtype=None\n",
        "  )\n",
        "\n",
        "train_generator = train_datagen.flow(\n",
        "    \n",
        "    x=training_images,\n",
        "    y=training_labels,\n",
        "    batch_size=BATCH_SIZE,\n",
        "    shuffle=True\n",
        "\n",
        ")\n",
        "\n",
        "valid_datagen = ImageDataGenerator(\n",
        "    rescale=1/255.0,\n",
        "    featurewise_center=False,\n",
        "    samplewise_center=False,\n",
        "    featurewise_std_normalization=False,\n",
        "    samplewise_std_normalization=False,\n",
        "    zca_whitening=False,\n",
        "    zca_epsilon=1e-06,\n",
        "    rotation_range=0,\n",
        "    width_shift_range=0.0,\n",
        "    height_shift_range=0.0,\n",
        "    brightness_range=None,\n",
        "    shear_range=0.0,\n",
        "    zoom_range=0.0,\n",
        "    channel_shift_range=0.0,\n",
        "    fill_mode='nearest',\n",
        "    cval=0.0,\n",
        "    horizontal_flip=False,\n",
        "    vertical_flip=False,\n",
        "    preprocessing_function=None,\n",
        "    data_format=None,\n",
        "    validation_split=0.0,\n",
        "    dtype=None\n",
        "  )\n",
        "\n",
        "valid_generator = valid_datagen.flow(\n",
        "    \n",
        "    x=test_images,\n",
        "    y=test_labels,\n",
        "    batch_size=BATCH_SIZE,\n",
        "    shuffle=True\n",
        ")"
      ],
      "metadata": {
        "id": "Pgq9BSmVLEWy"
      },
      "execution_count": 12,
      "outputs": []
    },
    {
      "cell_type": "markdown",
      "source": [
        "### Identify strategies to prevent overfitting, including augmentation and dropout"
      ],
      "metadata": {
        "id": "OgLzBtEBIjFK"
      }
    },
    {
      "cell_type": "code",
      "source": [
        "def create_model2(train_data,valid_data,epochs=20,find_lr=True,learning_rate=1e-3):\n",
        "\n",
        "  model = tf.keras.models.Sequential([\n",
        "      tf.keras.layers.Flatten(),\n",
        "      tf.keras.layers.Dense(128,activation=\"relu\"),\n",
        "      tf.keras.layers.Dropout(.1),\n",
        "      tf.keras.layers.Dense(128,activation=\"relu\"),\n",
        "      tf.keras.layers.Dropout(.1),\n",
        "      tf.keras.layers.Dense(10,activation=\"softmax\")\n",
        "  ])\n",
        "\n",
        "  # Create the learning rate callback\n",
        "  lr_scheduler = tf.keras.callbacks.LearningRateScheduler(lambda epoch: 1e-3 * 10**(epoch/20))\n",
        "\n",
        "  # init optimizer\n",
        "  optimizer = tf.keras.optimizers.Adam(learning_rate=learning_rate) if find_lr == False else tf.keras.optimizers.Adam(learning_rate=learning_rate)\n",
        "  callbacks = [lr_scheduler] if find_lr else []\n",
        "\n",
        "  model.compile(loss=tf.keras.losses.SparseCategoricalCrossentropy(),\n",
        "                optimizer=optimizer,\n",
        "                metrics=['accuracy'])\n",
        "  \n",
        "  history = model.fit(train_data,\n",
        "                      epochs=epochs,\n",
        "                      steps_per_epoch=20,\n",
        "                      validation_data=valid_data,\n",
        "                      validation_steps=3,\n",
        "                      callbacks=callbacks)\n",
        "\n",
        "  return model, history"
      ],
      "metadata": {
        "id": "6OyTJhU_JM9N"
      },
      "execution_count": 13,
      "outputs": []
    },
    {
      "cell_type": "code",
      "source": [
        "model2, history2 = create_model2(train_generator,valid_generator,epochs=50)"
      ],
      "metadata": {
        "colab": {
          "base_uri": "https://localhost:8080/"
        },
        "id": "ZkaOY9Ck8rz_",
        "outputId": "643d51e8-d06b-4c8d-db5d-0389ef8676f2"
      },
      "execution_count": 14,
      "outputs": [
        {
          "output_type": "stream",
          "name": "stdout",
          "text": [
            "Epoch 1/50\n",
            "20/20 [==============================] - 1s 16ms/step - loss: 1.2639 - accuracy: 0.5496 - val_loss: 0.8095 - val_accuracy: 0.7057 - lr: 0.0010\n",
            "Epoch 2/50\n",
            "20/20 [==============================] - 0s 11ms/step - loss: 0.8315 - accuracy: 0.6977 - val_loss: 0.7202 - val_accuracy: 0.7344 - lr: 0.0011\n",
            "Epoch 3/50\n",
            "20/20 [==============================] - 0s 8ms/step - loss: 0.6955 - accuracy: 0.7375 - val_loss: 0.5722 - val_accuracy: 0.7812 - lr: 0.0013\n",
            "Epoch 4/50\n",
            "20/20 [==============================] - 0s 8ms/step - loss: 0.5935 - accuracy: 0.7891 - val_loss: 0.5585 - val_accuracy: 0.8073 - lr: 0.0014\n",
            "Epoch 5/50\n",
            "20/20 [==============================] - 0s 8ms/step - loss: 0.6449 - accuracy: 0.7672 - val_loss: 0.5744 - val_accuracy: 0.8099 - lr: 0.0016\n",
            "Epoch 6/50\n",
            "20/20 [==============================] - 0s 8ms/step - loss: 0.6095 - accuracy: 0.7820 - val_loss: 0.5379 - val_accuracy: 0.8203 - lr: 0.0018\n",
            "Epoch 7/50\n",
            "20/20 [==============================] - 0s 8ms/step - loss: 0.5637 - accuracy: 0.7961 - val_loss: 0.4806 - val_accuracy: 0.8281 - lr: 0.0020\n",
            "Epoch 8/50\n",
            "20/20 [==============================] - 0s 8ms/step - loss: 0.5917 - accuracy: 0.7836 - val_loss: 0.5536 - val_accuracy: 0.7786 - lr: 0.0022\n",
            "Epoch 9/50\n",
            "20/20 [==============================] - 0s 9ms/step - loss: 0.5359 - accuracy: 0.8086 - val_loss: 0.4100 - val_accuracy: 0.8385 - lr: 0.0025\n",
            "Epoch 10/50\n",
            "20/20 [==============================] - 0s 8ms/step - loss: 0.5491 - accuracy: 0.8016 - val_loss: 0.5691 - val_accuracy: 0.8125 - lr: 0.0028\n",
            "Epoch 11/50\n",
            "20/20 [==============================] - 0s 8ms/step - loss: 0.5155 - accuracy: 0.8113 - val_loss: 0.5436 - val_accuracy: 0.7839 - lr: 0.0032\n",
            "Epoch 12/50\n",
            "20/20 [==============================] - 0s 8ms/step - loss: 0.5493 - accuracy: 0.7988 - val_loss: 0.5853 - val_accuracy: 0.7812 - lr: 0.0035\n",
            "Epoch 13/50\n",
            "20/20 [==============================] - 0s 11ms/step - loss: 0.5503 - accuracy: 0.8039 - val_loss: 0.5506 - val_accuracy: 0.8099 - lr: 0.0040\n",
            "Epoch 14/50\n",
            "20/20 [==============================] - 0s 8ms/step - loss: 0.5572 - accuracy: 0.7910 - val_loss: 0.5670 - val_accuracy: 0.8047 - lr: 0.0045\n",
            "Epoch 15/50\n",
            "20/20 [==============================] - 0s 9ms/step - loss: 0.5366 - accuracy: 0.8078 - val_loss: 0.5320 - val_accuracy: 0.8047 - lr: 0.0050\n",
            "Epoch 16/50\n",
            "20/20 [==============================] - 0s 8ms/step - loss: 0.4989 - accuracy: 0.8133 - val_loss: 0.5582 - val_accuracy: 0.7917 - lr: 0.0056\n",
            "Epoch 17/50\n",
            "20/20 [==============================] - 0s 9ms/step - loss: 0.5732 - accuracy: 0.8023 - val_loss: 0.5174 - val_accuracy: 0.8125 - lr: 0.0063\n",
            "Epoch 18/50\n",
            "20/20 [==============================] - 0s 10ms/step - loss: 0.5297 - accuracy: 0.8027 - val_loss: 0.5752 - val_accuracy: 0.7708 - lr: 0.0071\n",
            "Epoch 19/50\n",
            "20/20 [==============================] - 0s 9ms/step - loss: 0.6028 - accuracy: 0.7816 - val_loss: 0.5324 - val_accuracy: 0.8047 - lr: 0.0079\n",
            "Epoch 20/50\n",
            "20/20 [==============================] - 0s 8ms/step - loss: 0.5239 - accuracy: 0.8102 - val_loss: 0.5343 - val_accuracy: 0.7917 - lr: 0.0089\n",
            "Epoch 21/50\n",
            "20/20 [==============================] - 0s 8ms/step - loss: 0.5541 - accuracy: 0.7949 - val_loss: 0.5110 - val_accuracy: 0.7995 - lr: 0.0100\n",
            "Epoch 22/50\n",
            "20/20 [==============================] - 0s 8ms/step - loss: 0.6014 - accuracy: 0.7742 - val_loss: 0.5925 - val_accuracy: 0.8125 - lr: 0.0112\n",
            "Epoch 23/50\n",
            "20/20 [==============================] - 0s 9ms/step - loss: 0.5606 - accuracy: 0.8082 - val_loss: 0.5160 - val_accuracy: 0.8021 - lr: 0.0126\n",
            "Epoch 24/50\n",
            "20/20 [==============================] - 0s 9ms/step - loss: 0.5572 - accuracy: 0.8039 - val_loss: 0.5700 - val_accuracy: 0.7786 - lr: 0.0141\n",
            "Epoch 25/50\n",
            "20/20 [==============================] - 0s 8ms/step - loss: 0.5792 - accuracy: 0.7973 - val_loss: 0.6921 - val_accuracy: 0.7786 - lr: 0.0158\n",
            "Epoch 26/50\n",
            "20/20 [==============================] - 0s 8ms/step - loss: 0.7377 - accuracy: 0.7410 - val_loss: 0.7055 - val_accuracy: 0.7630 - lr: 0.0178\n",
            "Epoch 27/50\n",
            "20/20 [==============================] - 0s 8ms/step - loss: 0.8113 - accuracy: 0.7367 - val_loss: 0.7076 - val_accuracy: 0.7083 - lr: 0.0200\n",
            "Epoch 28/50\n",
            "20/20 [==============================] - 0s 8ms/step - loss: 0.8142 - accuracy: 0.7090 - val_loss: 0.7008 - val_accuracy: 0.7344 - lr: 0.0224\n",
            "Epoch 29/50\n",
            "20/20 [==============================] - 0s 8ms/step - loss: 0.8163 - accuracy: 0.7227 - val_loss: 0.7044 - val_accuracy: 0.7708 - lr: 0.0251\n",
            "Epoch 30/50\n",
            "20/20 [==============================] - 0s 8ms/step - loss: 0.7819 - accuracy: 0.6980 - val_loss: 0.6656 - val_accuracy: 0.7448 - lr: 0.0282\n",
            "Epoch 31/50\n",
            "20/20 [==============================] - 0s 8ms/step - loss: 0.8281 - accuracy: 0.6734 - val_loss: 0.7859 - val_accuracy: 0.7135 - lr: 0.0316\n",
            "Epoch 32/50\n",
            "20/20 [==============================] - 0s 10ms/step - loss: 0.9631 - accuracy: 0.6465 - val_loss: 0.7256 - val_accuracy: 0.7448 - lr: 0.0355\n",
            "Epoch 33/50\n",
            "20/20 [==============================] - 0s 8ms/step - loss: 1.0188 - accuracy: 0.6266 - val_loss: 0.7869 - val_accuracy: 0.7214 - lr: 0.0398\n",
            "Epoch 34/50\n",
            "20/20 [==============================] - 0s 11ms/step - loss: 1.4145 - accuracy: 0.5699 - val_loss: 1.2710 - val_accuracy: 0.5599 - lr: 0.0447\n",
            "Epoch 35/50\n",
            "20/20 [==============================] - 0s 11ms/step - loss: 1.7102 - accuracy: 0.5121 - val_loss: 1.5601 - val_accuracy: 0.4844 - lr: 0.0501\n",
            "Epoch 36/50\n",
            "20/20 [==============================] - 0s 10ms/step - loss: 1.7193 - accuracy: 0.4082 - val_loss: 1.5560 - val_accuracy: 0.4557 - lr: 0.0562\n",
            "Epoch 37/50\n",
            "20/20 [==============================] - 0s 8ms/step - loss: 1.5328 - accuracy: 0.4605 - val_loss: 1.2615 - val_accuracy: 0.5260 - lr: 0.0631\n",
            "Epoch 38/50\n",
            "20/20 [==============================] - 0s 9ms/step - loss: 1.6816 - accuracy: 0.4348 - val_loss: 1.5619 - val_accuracy: 0.4115 - lr: 0.0708\n",
            "Epoch 39/50\n",
            "20/20 [==============================] - 0s 10ms/step - loss: 2.2052 - accuracy: 0.3082 - val_loss: 2.0162 - val_accuracy: 0.2969 - lr: 0.0794\n",
            "Epoch 40/50\n",
            "20/20 [==============================] - 0s 8ms/step - loss: 2.8828 - accuracy: 0.2195 - val_loss: 2.2542 - val_accuracy: 0.1120 - lr: 0.0891\n",
            "Epoch 41/50\n",
            "20/20 [==============================] - 0s 9ms/step - loss: 2.3287 - accuracy: 0.1039 - val_loss: 2.3209 - val_accuracy: 0.0885 - lr: 0.1000\n",
            "Epoch 42/50\n",
            "20/20 [==============================] - 0s 8ms/step - loss: 2.3134 - accuracy: 0.0988 - val_loss: 2.3119 - val_accuracy: 0.0807 - lr: 0.1122\n",
            "Epoch 43/50\n",
            "20/20 [==============================] - 0s 10ms/step - loss: 2.8134 - accuracy: 0.0898 - val_loss: 2.3461 - val_accuracy: 0.0885 - lr: 0.1259\n",
            "Epoch 44/50\n",
            "20/20 [==============================] - 0s 8ms/step - loss: 2.2851 - accuracy: 0.1242 - val_loss: 2.2287 - val_accuracy: 0.1536 - lr: 0.1413\n",
            "Epoch 45/50\n",
            "20/20 [==============================] - 0s 8ms/step - loss: 2.2158 - accuracy: 0.1566 - val_loss: 2.0838 - val_accuracy: 0.2005 - lr: 0.1585\n",
            "Epoch 46/50\n",
            "20/20 [==============================] - 0s 9ms/step - loss: 2.1973 - accuracy: 0.1656 - val_loss: 2.1744 - val_accuracy: 0.1536 - lr: 0.1778\n",
            "Epoch 47/50\n",
            "20/20 [==============================] - 0s 9ms/step - loss: 6.9635 - accuracy: 0.1734 - val_loss: 2.3970 - val_accuracy: 0.1875 - lr: 0.1995\n",
            "Epoch 48/50\n",
            "20/20 [==============================] - 0s 9ms/step - loss: 2.3886 - accuracy: 0.1352 - val_loss: 2.3546 - val_accuracy: 0.0859 - lr: 0.2239\n",
            "Epoch 49/50\n",
            "20/20 [==============================] - 0s 10ms/step - loss: 12.5554 - accuracy: 0.0961 - val_loss: 2.4415 - val_accuracy: 0.0885 - lr: 0.2512\n",
            "Epoch 50/50\n",
            "20/20 [==============================] - 0s 9ms/step - loss: 2.4100 - accuracy: 0.1027 - val_loss: 2.3335 - val_accuracy: 0.1068 - lr: 0.2818\n"
          ]
        }
      ]
    },
    {
      "cell_type": "code",
      "source": [
        "plot_learning_rate(history2,epochs=50)"
      ],
      "metadata": {
        "colab": {
          "base_uri": "https://localhost:8080/",
          "height": 299
        },
        "id": "uj5WbTBgBFic",
        "outputId": "71390374-3581-45fc-d16b-c11501af2fac"
      },
      "execution_count": 15,
      "outputs": [
        {
          "output_type": "display_data",
          "data": {
            "text/plain": [
              "<Figure size 432x288 with 1 Axes>"
            ],
            "image/png": "[encoded data removed]"
          },
          "metadata": {
            "needs_background": "light"
          }
        }
      ]
    },
    {
      "cell_type": "code",
      "source": [
        "model2, history2 = create_model2(train_generator,valid_generator,epochs=50,find_lr=False,learning_rate=1e-2)"
      ],
      "metadata": {
        "id": "9_m7SapzBb1I",
        "colab": {
          "base_uri": "https://localhost:8080/"
        },
        "outputId": "d3f5ba8f-b89a-49a3-8d70-96338cf450aa"
      },
      "execution_count": 16,
      "outputs": [
        {
          "output_type": "stream",
          "name": "stdout",
          "text": [
            "Epoch 1/50\n",
            "20/20 [==============================] - 1s 14ms/step - loss: 1.9399 - accuracy: 0.4957 - val_loss: 0.9130 - val_accuracy: 0.6380\n",
            "Epoch 2/50\n",
            "20/20 [==============================] - 0s 8ms/step - loss: 0.7939 - accuracy: 0.6879 - val_loss: 0.7441 - val_accuracy: 0.7135\n",
            "Epoch 3/50\n",
            "20/20 [==============================] - 0s 8ms/step - loss: 0.7377 - accuracy: 0.7270 - val_loss: 0.6918 - val_accuracy: 0.7344\n",
            "Epoch 4/50\n",
            "20/20 [==============================] - 0s 8ms/step - loss: 0.6363 - accuracy: 0.7570 - val_loss: 0.6462 - val_accuracy: 0.7708\n",
            "Epoch 5/50\n",
            "20/20 [==============================] - 0s 9ms/step - loss: 0.6095 - accuracy: 0.7777 - val_loss: 0.6189 - val_accuracy: 0.7682\n",
            "Epoch 6/50\n",
            "20/20 [==============================] - 0s 9ms/step - loss: 0.5920 - accuracy: 0.7824 - val_loss: 0.5111 - val_accuracy: 0.8177\n",
            "Epoch 7/50\n",
            "20/20 [==============================] - 0s 10ms/step - loss: 0.6046 - accuracy: 0.7832 - val_loss: 0.5917 - val_accuracy: 0.8047\n",
            "Epoch 8/50\n",
            "20/20 [==============================] - 0s 9ms/step - loss: 0.5424 - accuracy: 0.8070 - val_loss: 0.6002 - val_accuracy: 0.7708\n",
            "Epoch 9/50\n",
            "20/20 [==============================] - 0s 8ms/step - loss: 0.5388 - accuracy: 0.8012 - val_loss: 0.4844 - val_accuracy: 0.8177\n",
            "Epoch 10/50\n",
            "20/20 [==============================] - 0s 8ms/step - loss: 0.5657 - accuracy: 0.7840 - val_loss: 0.6420 - val_accuracy: 0.7578\n",
            "Epoch 11/50\n",
            "20/20 [==============================] - 0s 10ms/step - loss: 0.5145 - accuracy: 0.8172 - val_loss: 0.5306 - val_accuracy: 0.8099\n",
            "Epoch 12/50\n",
            "20/20 [==============================] - 0s 9ms/step - loss: 0.5591 - accuracy: 0.7930 - val_loss: 0.5806 - val_accuracy: 0.7943\n",
            "Epoch 13/50\n",
            "20/20 [==============================] - 0s 9ms/step - loss: 0.5091 - accuracy: 0.8168 - val_loss: 0.4840 - val_accuracy: 0.8229\n",
            "Epoch 14/50\n",
            "20/20 [==============================] - 0s 9ms/step - loss: 0.5201 - accuracy: 0.8113 - val_loss: 0.4998 - val_accuracy: 0.8177\n",
            "Epoch 15/50\n",
            "20/20 [==============================] - 0s 10ms/step - loss: 0.5489 - accuracy: 0.8039 - val_loss: 0.4693 - val_accuracy: 0.8177\n",
            "Epoch 16/50\n",
            "20/20 [==============================] - 0s 8ms/step - loss: 0.5286 - accuracy: 0.8098 - val_loss: 0.6200 - val_accuracy: 0.7708\n",
            "Epoch 17/50\n",
            "20/20 [==============================] - 0s 10ms/step - loss: 0.5719 - accuracy: 0.7996 - val_loss: 0.4827 - val_accuracy: 0.8047\n",
            "Epoch 18/50\n",
            "20/20 [==============================] - 0s 10ms/step - loss: 0.5124 - accuracy: 0.8223 - val_loss: 0.5029 - val_accuracy: 0.8151\n",
            "Epoch 19/50\n",
            "20/20 [==============================] - 0s 8ms/step - loss: 0.4624 - accuracy: 0.8309 - val_loss: 0.5211 - val_accuracy: 0.8047\n",
            "Epoch 20/50\n",
            "20/20 [==============================] - 0s 9ms/step - loss: 0.5047 - accuracy: 0.8270 - val_loss: 0.4413 - val_accuracy: 0.8255\n",
            "Epoch 21/50\n",
            "20/20 [==============================] - 0s 9ms/step - loss: 0.5191 - accuracy: 0.8168 - val_loss: 0.5007 - val_accuracy: 0.8307\n",
            "Epoch 22/50\n",
            "20/20 [==============================] - 0s 8ms/step - loss: 0.4854 - accuracy: 0.8387 - val_loss: 0.5391 - val_accuracy: 0.8125\n",
            "Epoch 23/50\n",
            "20/20 [==============================] - 0s 8ms/step - loss: 0.5043 - accuracy: 0.8152 - val_loss: 0.5171 - val_accuracy: 0.7995\n",
            "Epoch 24/50\n",
            "20/20 [==============================] - 0s 9ms/step - loss: 0.4950 - accuracy: 0.8281 - val_loss: 0.5858 - val_accuracy: 0.8073\n",
            "Epoch 25/50\n",
            "20/20 [==============================] - 0s 9ms/step - loss: 0.5236 - accuracy: 0.8109 - val_loss: 0.4590 - val_accuracy: 0.8099\n",
            "Epoch 26/50\n",
            "20/20 [==============================] - 0s 9ms/step - loss: 0.4735 - accuracy: 0.8289 - val_loss: 0.4673 - val_accuracy: 0.8307\n",
            "Epoch 27/50\n",
            "20/20 [==============================] - 0s 8ms/step - loss: 0.5367 - accuracy: 0.8082 - val_loss: 0.4994 - val_accuracy: 0.8359\n",
            "Epoch 28/50\n",
            "20/20 [==============================] - 0s 9ms/step - loss: 0.5397 - accuracy: 0.8228 - val_loss: 0.5098 - val_accuracy: 0.8073\n",
            "Epoch 29/50\n",
            "20/20 [==============================] - 0s 8ms/step - loss: 0.5638 - accuracy: 0.7910 - val_loss: 0.6513 - val_accuracy: 0.7839\n",
            "Epoch 30/50\n",
            "20/20 [==============================] - 0s 8ms/step - loss: 0.4959 - accuracy: 0.8164 - val_loss: 0.4279 - val_accuracy: 0.8385\n",
            "Epoch 31/50\n",
            "20/20 [==============================] - 0s 11ms/step - loss: 0.5155 - accuracy: 0.8156 - val_loss: 0.4852 - val_accuracy: 0.8438\n",
            "Epoch 32/50\n",
            "20/20 [==============================] - 0s 8ms/step - loss: 0.4907 - accuracy: 0.8211 - val_loss: 0.4525 - val_accuracy: 0.8464\n",
            "Epoch 33/50\n",
            "20/20 [==============================] - 0s 9ms/step - loss: 0.4621 - accuracy: 0.8324 - val_loss: 0.4473 - val_accuracy: 0.8281\n",
            "Epoch 34/50\n",
            "20/20 [==============================] - 0s 8ms/step - loss: 0.4784 - accuracy: 0.8246 - val_loss: 0.5387 - val_accuracy: 0.8151\n",
            "Epoch 35/50\n",
            "20/20 [==============================] - 0s 10ms/step - loss: 0.4771 - accuracy: 0.8240 - val_loss: 0.4690 - val_accuracy: 0.8359\n",
            "Epoch 36/50\n",
            "20/20 [==============================] - 0s 8ms/step - loss: 0.5008 - accuracy: 0.8254 - val_loss: 0.4359 - val_accuracy: 0.8255\n",
            "Epoch 37/50\n",
            "20/20 [==============================] - 0s 9ms/step - loss: 0.4945 - accuracy: 0.8184 - val_loss: 0.5475 - val_accuracy: 0.7865\n",
            "Epoch 38/50\n",
            "20/20 [==============================] - 0s 10ms/step - loss: 0.5282 - accuracy: 0.8156 - val_loss: 0.4742 - val_accuracy: 0.8203\n",
            "Epoch 39/50\n",
            "20/20 [==============================] - 0s 8ms/step - loss: 0.5121 - accuracy: 0.8203 - val_loss: 0.4825 - val_accuracy: 0.8333\n",
            "Epoch 40/50\n",
            "20/20 [==============================] - 0s 9ms/step - loss: 0.5091 - accuracy: 0.8168 - val_loss: 0.5542 - val_accuracy: 0.8073\n",
            "Epoch 41/50\n",
            "20/20 [==============================] - 0s 10ms/step - loss: 0.4812 - accuracy: 0.8281 - val_loss: 0.5358 - val_accuracy: 0.8047\n",
            "Epoch 42/50\n",
            "20/20 [==============================] - 0s 8ms/step - loss: 0.4737 - accuracy: 0.8367 - val_loss: 0.5422 - val_accuracy: 0.8125\n",
            "Epoch 43/50\n",
            "20/20 [==============================] - 0s 8ms/step - loss: 0.4778 - accuracy: 0.8309 - val_loss: 0.4564 - val_accuracy: 0.8307\n",
            "Epoch 44/50\n",
            "20/20 [==============================] - 0s 8ms/step - loss: 0.4579 - accuracy: 0.8301 - val_loss: 0.4610 - val_accuracy: 0.8333\n",
            "Epoch 45/50\n",
            "20/20 [==============================] - 0s 8ms/step - loss: 0.5047 - accuracy: 0.8188 - val_loss: 0.5385 - val_accuracy: 0.7969\n",
            "Epoch 46/50\n",
            "20/20 [==============================] - 0s 8ms/step - loss: 0.4781 - accuracy: 0.8215 - val_loss: 0.4183 - val_accuracy: 0.8333\n",
            "Epoch 47/50\n",
            "20/20 [==============================] - 0s 9ms/step - loss: 0.4724 - accuracy: 0.8441 - val_loss: 0.4626 - val_accuracy: 0.8490\n",
            "Epoch 48/50\n",
            "20/20 [==============================] - 0s 8ms/step - loss: 0.4775 - accuracy: 0.8414 - val_loss: 0.4148 - val_accuracy: 0.8672\n",
            "Epoch 49/50\n",
            "20/20 [==============================] - 0s 8ms/step - loss: 0.4430 - accuracy: 0.8422 - val_loss: 0.4623 - val_accuracy: 0.8516\n",
            "Epoch 50/50\n",
            "20/20 [==============================] - 0s 9ms/step - loss: 0.4270 - accuracy: 0.8516 - val_loss: 0.4983 - val_accuracy: 0.8411\n"
          ]
        }
      ]
    },
    {
      "cell_type": "markdown",
      "source": [
        "## Project 2: Classifying Cats and Dogs\n",
        "\n",
        "### Use pre-trained models (transfer learning)\n",
        "### Extract features from pre-trained models\n",
        "### Use callbacks to trigger the end of training cycles\n",
        "https://www.tensorflow.org/api_docs/python/tf/keras/applications/resnet/ResNet101"
      ],
      "metadata": {
        "id": "Yh4QAFXxIzry"
      }
    },
    {
      "cell_type": "code",
      "source": [
        "_URL = 'https://storage.googleapis.com/mledu-datasets/cats_and_dogs_filtered.zip'\n",
        "path_to_zip = tf.keras.utils.get_file('cats_and_dogs.zip', origin=_URL, extract=True)\n",
        "PATH = os.path.join(os.path.dirname(path_to_zip), 'cats_and_dogs_filtered')\n",
        "\n",
        "train_dir = os.path.join(PATH, 'train')\n",
        "validation_dir = os.path.join(PATH, 'validation')\n",
        "\n",
        "BATCH_SIZE = 32\n",
        "IMG_SIZE = (224, 224)\n",
        "\n",
        "train_datagen = ImageDataGenerator(rescale=1/255.0)\n",
        "val_datagen = ImageDataGenerator(rescale=1/255.0)\n",
        "\n",
        "train_dataset = train_datagen.flow_from_directory(train_dir,\n",
        "                                                  shuffle=True,\n",
        "                                                  batch_size=BATCH_SIZE,\n",
        "                                                  target_size=IMG_SIZE,\n",
        "                                                  class_mode='binary')\n",
        "\n",
        "val_dataset = val_datagen.flow_from_directory(validation_dir,\n",
        "                                              shuffle=True,\n",
        "                                              batch_size=BATCH_SIZE,\n",
        "                                              class_mode='binary')"
      ],
      "metadata": {
        "colab": {
          "base_uri": "https://localhost:8080/"
        },
        "id": "NKwbjEzm-5Gz",
        "outputId": "a5cf24b0-58cd-4bc3-e000-81b7fbf44416"
      },
      "execution_count": 63,
      "outputs": [
        {
          "output_type": "stream",
          "name": "stdout",
          "text": [
            "Found 2000 images belonging to 2 classes.\n",
            "Found 1000 images belonging to 2 classes.\n"
          ]
        }
      ]
    },
    {
      "cell_type": "code",
      "source": [
        "class myCallback(tf.keras.callbacks.Callback):\n",
        "    def on_epoch_end(self, epoch, logs={}):\n",
        "        if logs.get('accuracy') is not None and logs.get('accuracy') >= 0.99:\n",
        "            print(\"\\nReached 99.9% accuracy so cancelling training!\")\n",
        "            self.model.stop_training = True\n",
        "\n",
        "callback = myCallback()"
      ],
      "metadata": {
        "id": "ZC_iTgU-PHVG"
      },
      "execution_count": 18,
      "outputs": []
    },
    {
      "cell_type": "code",
      "source": [
        "def create_model3(train_data,valid_data,epochs=10,learning_rate=1e-4,callback=callback):\n",
        "  input_shape = (224,224,3)\n",
        "\n",
        "  base_model = tf.keras.applications.MobileNetV2(input_shape=input_shape,\n",
        "                                               include_top=False,\n",
        "                                               weights='imagenet')\n",
        "  \n",
        "  ###### FEATURE EXTRACTION STEP ######\n",
        "  base_model.trainable = False\n",
        "  #####################################\n",
        "  \n",
        "  inputs = tf.keras.layers.Input(shape=input_shape,name=\"input_layer\")\n",
        "  x = base_model(inputs,training=False)\n",
        "  x = tf.keras.layers.GlobalAveragePooling2D(name=\"pooling_layer\")(x)\n",
        "  x = tf.keras.layers.Dense(100,activation=\"relu\",name=\"dense_layer\")(x)\n",
        "  outputs = tf.keras.layers.Dense(1,activation=\"sigmoid\",name=\"output_layer\")(x)\n",
        "\n",
        "  model = tf.keras.Model(inputs,outputs)\n",
        "  model.compile(loss=tf.keras.losses.BinaryCrossentropy(),\n",
        "                optimizer=tf.keras.optimizers.Adam(learning_rate=learning_rate),\n",
        "                metrics=['accuracy'])\n",
        "  \n",
        "  history = model.fit(\n",
        "      train_data,\n",
        "      epochs=epochs,\n",
        "      steps_per_epoch=len(train_data),\n",
        "      validation_data=valid_data,\n",
        "      validation_steps=int(.15*len(valid_data)),\n",
        "      callbacks=[callback]\n",
        "  )\n",
        "\n",
        "  return model, history"
      ],
      "metadata": {
        "id": "6KkvvfzlBs0L"
      },
      "execution_count": 32,
      "outputs": []
    },
    {
      "cell_type": "code",
      "source": [
        "model3, history3 = create_model3(train_dataset,val_dataset)"
      ],
      "metadata": {
        "colab": {
          "base_uri": "https://localhost:8080/"
        },
        "id": "f4_s_PAWJ7iD",
        "outputId": "6afa8018-924a-487b-f1c9-e762c67ef988"
      },
      "execution_count": 33,
      "outputs": [
        {
          "output_type": "stream",
          "name": "stdout",
          "text": [
            "Epoch 1/10\n",
            "63/63 [==============================] - 71s 134ms/step - loss: 0.2969 - accuracy: 0.8950 - val_loss: 0.1332 - val_accuracy: 0.9766\n",
            "Epoch 2/10\n",
            "63/63 [==============================] - 8s 120ms/step - loss: 0.0960 - accuracy: 0.9710 - val_loss: 0.0809 - val_accuracy: 0.9844\n",
            "Epoch 3/10\n",
            "63/63 [==============================] - 8s 120ms/step - loss: 0.0670 - accuracy: 0.9770 - val_loss: 0.0680 - val_accuracy: 0.9844\n",
            "Epoch 4/10\n",
            "63/63 [==============================] - 8s 120ms/step - loss: 0.0544 - accuracy: 0.9850 - val_loss: 0.0865 - val_accuracy: 0.9688\n",
            "Epoch 5/10\n",
            "63/63 [==============================] - 8s 120ms/step - loss: 0.0446 - accuracy: 0.9865 - val_loss: 0.0564 - val_accuracy: 0.9688\n",
            "Epoch 6/10\n",
            "63/63 [==============================] - 8s 119ms/step - loss: 0.0373 - accuracy: 0.9895 - val_loss: 0.0567 - val_accuracy: 0.9844\n",
            "Epoch 7/10\n",
            "62/63 [============================>.] - ETA: 0s - loss: 0.0315 - accuracy: 0.9919\n",
            "Reached 99.9% accuracy so cancelling training!\n",
            "63/63 [==============================] - 8s 120ms/step - loss: 0.0315 - accuracy: 0.9920 - val_loss: 0.0525 - val_accuracy: 0.9844\n"
          ]
        }
      ]
    },
    {
      "cell_type": "markdown",
      "source": [
        "### Fine tune models from pretrained models\n"
      ],
      "metadata": {
        "id": "BY3Tg3_jI3Ss"
      }
    },
    {
      "cell_type": "code",
      "source": [
        "def create_model4(train_data,valid_data,epochs=10,learning_rate=1e-4,callback=callback):\n",
        "\n",
        "  input_shape = (224,224,3)\n",
        "  base_model = tf.keras.applications.MobileNetV2(input_shape=input_shape,\n",
        "                                               include_top=False,\n",
        "                                               weights='imagenet')\n",
        "  \n",
        "  ###### FINE TUNING STEP ##########################\n",
        "  base_model.trainable = True\n",
        "  fine_tune_at = 100\n",
        "\n",
        "  for layer in base_model.layers[:fine_tune_at]:\n",
        "    layer.trainable = False\n",
        "  ##################################################\n",
        "  inputs = tf.keras.layers.Input(shape=input_shape,name=\"input_layer\")\n",
        "  x = base_model(inputs, training=False)\n",
        "  x = tf.keras.layers.GlobalAveragePooling2D(name=\"pooling_layer\")(x)\n",
        "  x = tf.keras.layers.Dense(100,activation=\"relu\",name=\"dense_layer\")(x)\n",
        "  outputs = tf.keras.layers.Dense(1,activation=\"sigmoid\",name=\"output_layer\")(x)\n",
        "\n",
        "  model = tf.keras.Model(inputs,outputs)\n",
        "  model.compile(loss=tf.keras.losses.BinaryCrossentropy(),\n",
        "                optimizer=tf.keras.optimizers.Adam(learning_rate=learning_rate),\n",
        "                metrics=['accuracy'])\n",
        "  \n",
        "  history = model.fit(\n",
        "      train_data,\n",
        "      epochs=epochs,\n",
        "      steps_per_epoch=len(train_data),\n",
        "      validation_data=valid_data,\n",
        "      validation_steps=int(.15*len(valid_data)),\n",
        "      callbacks=[callback]\n",
        "  )\n",
        "\n",
        "  return model, history"
      ],
      "metadata": {
        "id": "j8WaTNV9QwVT"
      },
      "execution_count": 60,
      "outputs": []
    },
    {
      "cell_type": "code",
      "source": [
        "model4 = create_model4(train_dataset,val_dataset)"
      ],
      "metadata": {
        "colab": {
          "base_uri": "https://localhost:8080/"
        },
        "id": "rHk4Fdoz5Fb0",
        "outputId": "ac31553d-f7cf-4754-9103-e69619b4a4cc"
      },
      "execution_count": 61,
      "outputs": [
        {
          "output_type": "stream",
          "name": "stdout",
          "text": [
            "Epoch 1/10\n",
            "63/63 [==============================] - 11s 136ms/step - loss: 0.1410 - accuracy: 0.9470 - val_loss: 0.0516 - val_accuracy: 0.9766\n",
            "Epoch 2/10\n",
            "63/63 [==============================] - 8s 122ms/step - loss: 0.0485 - accuracy: 0.9820 - val_loss: 0.1255 - val_accuracy: 0.9531\n",
            "Epoch 3/10\n",
            "63/63 [==============================] - ETA: 0s - loss: 0.0278 - accuracy: 0.9910\n",
            "Reached 99.9% accuracy so cancelling training!\n",
            "63/63 [==============================] - 8s 121ms/step - loss: 0.0278 - accuracy: 0.9910 - val_loss: 0.0258 - val_accuracy: 0.9922\n"
          ]
        }
      ]
    }
  ]
}